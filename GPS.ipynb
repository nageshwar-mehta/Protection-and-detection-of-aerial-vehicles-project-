{
 "cells": [
  {
   "cell_type": "code",
   "execution_count": 4,
   "metadata": {},
   "outputs": [
    {
     "name": "stdout",
     "output_type": "stream",
     "text": [
      "Requirement already satisfied: gpsd-py3 in c:\\phython 3.7\\lib\\site-packages (0.3.0)\n",
      "Note: you may need to restart the kernel to use updated packages.\n"
     ]
    }
   ],
   "source": [
    "pip install gpsd-py3\n"
   ]
  },
  {
   "cell_type": "code",
   "execution_count": 5,
   "metadata": {},
   "outputs": [
    {
     "name": "stdout",
     "output_type": "stream",
     "text": [
      "Requirement already satisfied: geopy in c:\\phython 3.7\\lib\\site-packages (2.4.1)\n",
      "Requirement already satisfied: geographiclib<3,>=1.52 in c:\\phython 3.7\\lib\\site-packages (from geopy) (2.0)\n",
      "Note: you may need to restart the kernel to use updated packages.\n"
     ]
    }
   ],
   "source": [
    "pip install geopy\n"
   ]
  },
  {
   "cell_type": "code",
   "execution_count": 6,
   "metadata": {},
   "outputs": [
    {
     "name": "stdout",
     "output_type": "stream",
     "text": [
      "Requirement already satisfied: gps3 in c:\\phython 3.7\\lib\\site-packages (0.33.3)\n",
      "Note: you may need to restart the kernel to use updated packages.\n"
     ]
    }
   ],
   "source": [
    "pip install gps3\n"
   ]
  },
  {
   "cell_type": "code",
   "execution_count": 5,
   "metadata": {},
   "outputs": [
    {
     "name": "stdout",
     "output_type": "stream",
     "text": [
      "32.8032545 74.8954449\n"
     ]
    }
   ],
   "source": [
    "from geopy.geocoders import Nominatim\n",
    "\n",
    "geolocator = Nominatim(user_agent=\"my_gps_app\")\n",
    "location = geolocator.geocode(\"IIT Jammu, Jammu\")\n",
    "\n",
    "print(location.latitude, location.longitude)\n"
   ]
  },
  {
   "cell_type": "code",
   "execution_count": 8,
   "metadata": {},
   "outputs": [
    {
     "ename": "ImportError",
     "evalue": "cannot import name 'gpsd' from 'gpsd' (c:\\phython 3.7\\lib\\site-packages\\gpsd\\__init__.py)",
     "output_type": "error",
     "traceback": [
      "\u001b[1;31m---------------------------------------------------------------------------\u001b[0m",
      "\u001b[1;31mImportError\u001b[0m                               Traceback (most recent call last)",
      "Cell \u001b[1;32mIn[8], line 1\u001b[0m\n\u001b[1;32m----> 1\u001b[0m \u001b[38;5;28;01mfrom\u001b[39;00m \u001b[38;5;21;01mgpsd\u001b[39;00m \u001b[38;5;28;01mimport\u001b[39;00m gpsd\n\u001b[0;32m      3\u001b[0m \u001b[38;5;66;03m# Connect to the local gpsd service\u001b[39;00m\n\u001b[0;32m      4\u001b[0m gpsd\u001b[38;5;241m.\u001b[39mconnect()\n",
      "\u001b[1;31mImportError\u001b[0m: cannot import name 'gpsd' from 'gpsd' (c:\\phython 3.7\\lib\\site-packages\\gpsd\\__init__.py)"
     ]
    }
   ],
   "source": [
    "from gpsd import gpsd\n",
    "\n",
    "# Connect to the local gpsd service\n",
    "gpsd.connect()\n",
    "\n",
    "# Get the latest GPS data\n",
    "packet = gpsd.get_current()\n",
    "\n",
    "print(packet.position())\n"
   ]
  },
  {
   "cell_type": "code",
   "execution_count": 9,
   "metadata": {},
   "outputs": [
    {
     "ename": "ImportError",
     "evalue": "cannot import name 'gpscommon' from 'gpsd' (c:\\phython 3.7\\lib\\site-packages\\gpsd\\__init__.py)",
     "output_type": "error",
     "traceback": [
      "\u001b[1;31m---------------------------------------------------------------------------\u001b[0m",
      "\u001b[1;31mImportError\u001b[0m                               Traceback (most recent call last)",
      "Cell \u001b[1;32mIn[9], line 1\u001b[0m\n\u001b[1;32m----> 1\u001b[0m \u001b[38;5;28;01mfrom\u001b[39;00m \u001b[38;5;21;01mgpsd\u001b[39;00m \u001b[38;5;28;01mimport\u001b[39;00m gpscommon\n\u001b[0;32m      3\u001b[0m \u001b[38;5;66;03m# Connect to the local gpsd service\u001b[39;00m\n\u001b[0;32m      4\u001b[0m gpscommon\u001b[38;5;241m.\u001b[39mconnect()\n",
      "\u001b[1;31mImportError\u001b[0m: cannot import name 'gpscommon' from 'gpsd' (c:\\phython 3.7\\lib\\site-packages\\gpsd\\__init__.py)"
     ]
    }
   ],
   "source": [
    "from gpsd import gpscommon\n",
    "\n",
    "# Connect to the local gpsd service\n",
    "gpscommon.connect()\n",
    "\n",
    "# Get the latest GPS data\n",
    "packet = gpscommon.get_current()\n",
    "\n",
    "print(packet.position())\n"
   ]
  },
  {
   "cell_type": "code",
   "execution_count": 10,
   "metadata": {},
   "outputs": [
    {
     "name": "stdout",
     "output_type": "stream",
     "text": [
      "Collecting gpsd-py3\n",
      "  Using cached gpsd_py3-0.3.0-py3-none-any.whl\n",
      "Installing collected packages: gpsd-py3\n",
      "  Attempting uninstall: gpsd-py3\n",
      "    Found existing installation: gpsd-py3 0.3.0\n",
      "    Uninstalling gpsd-py3-0.3.0:\n",
      "      Successfully uninstalled gpsd-py3-0.3.0\n",
      "Successfully installed gpsd-py3-0.3.0\n",
      "Note: you may need to restart the kernel to use updated packages.\n"
     ]
    },
    {
     "name": "stderr",
     "output_type": "stream",
     "text": [
      "\n",
      "[notice] A new release of pip is available: 23.3.1 -> 23.3.2\n",
      "[notice] To update, run: python.exe -m pip install --upgrade pip\n"
     ]
    }
   ],
   "source": [
    "pip install gpsd-py3 --force-reinstall\n"
   ]
  },
  {
   "cell_type": "code",
   "execution_count": 13,
   "metadata": {},
   "outputs": [
    {
     "name": "stdout",
     "output_type": "stream",
     "text": [
      "Requirement already satisfied: pip in c:\\phython 3.7\\lib\\site-packages (23.3.1)\n",
      "Collecting pip\n",
      "  Downloading pip-23.3.2-py3-none-any.whl.metadata (3.5 kB)\n",
      "Downloading pip-23.3.2-py3-none-any.whl (2.1 MB)\n",
      "   ---------------------------------------- 0.0/2.1 MB ? eta -:--:--\n",
      "   - -------------------------------------- 0.1/2.1 MB 1.1 MB/s eta 0:00:02\n",
      "   --- ------------------------------------ 0.2/2.1 MB 1.6 MB/s eta 0:00:02\n",
      "   --------- ------------------------------ 0.5/2.1 MB 3.5 MB/s eta 0:00:01\n",
      "   ---------------- ----------------------- 0.8/2.1 MB 4.5 MB/s eta 0:00:01\n",
      "   ---------------------- ----------------- 1.2/2.1 MB 5.0 MB/s eta 0:00:01\n",
      "   ------------------------------ --------- 1.6/2.1 MB 5.6 MB/s eta 0:00:01\n",
      "   ----------------------------------- ---- 1.9/2.1 MB 5.9 MB/s eta 0:00:01\n",
      "   ------------------------------------- -- 2.0/2.1 MB 5.4 MB/s eta 0:00:01\n",
      "   ---------------------------------------- 2.1/2.1 MB 5.4 MB/s eta 0:00:00\n",
      "Installing collected packages: pip\n",
      "  Attempting uninstall: pip\n",
      "    Found existing installation: pip 23.3.1\n",
      "    Uninstalling pip-23.3.1:\n",
      "      Successfully uninstalled pip-23.3.1\n",
      "Successfully installed pip-23.3.2\n",
      "Note: you may need to restart the kernel to use updated packages.\n"
     ]
    }
   ],
   "source": [
    "#  pip install --upgrade pip"
   ]
  },
  {
   "cell_type": "code",
   "execution_count": 10,
   "metadata": {},
   "outputs": [
    {
     "ename": "ConnectionRefusedError",
     "evalue": "[WinError 10061] No connection could be made because the target machine actively refused it",
     "output_type": "error",
     "traceback": [
      "\u001b[1;31m---------------------------------------------------------------------------\u001b[0m",
      "\u001b[1;31mConnectionRefusedError\u001b[0m                    Traceback (most recent call last)",
      "Cell \u001b[1;32mIn[10], line 4\u001b[0m\n\u001b[0;32m      1\u001b[0m \u001b[38;5;28;01mimport\u001b[39;00m \u001b[38;5;21;01mgpsd\u001b[39;00m\n\u001b[0;32m      3\u001b[0m \u001b[38;5;66;03m# Connect to the local gpsd\u001b[39;00m\n\u001b[1;32m----> 4\u001b[0m \u001b[43mgpsd\u001b[49m\u001b[38;5;241;43m.\u001b[39;49m\u001b[43mconnect\u001b[49m\u001b[43m(\u001b[49m\u001b[43m)\u001b[49m\n\u001b[0;32m      6\u001b[0m \u001b[38;5;66;03m# Connect somewhere else\u001b[39;00m\n\u001b[0;32m      7\u001b[0m gpsd\u001b[38;5;241m.\u001b[39mconnect(host\u001b[38;5;241m=\u001b[39m\u001b[38;5;124m\"\u001b[39m\u001b[38;5;124m127.0.0.1\u001b[39m\u001b[38;5;124m\"\u001b[39m, port\u001b[38;5;241m=\u001b[39m\u001b[38;5;241m123456\u001b[39m)\n",
      "File \u001b[1;32mc:\\phython 3.7\\lib\\site-packages\\gpsd\\__init__.py:254\u001b[0m, in \u001b[0;36mconnect\u001b[1;34m(host, port)\u001b[0m\n\u001b[0;32m    252\u001b[0m logger\u001b[38;5;241m.\u001b[39mdebug(\u001b[38;5;124m\"\u001b[39m\u001b[38;5;124mConnecting to gpsd socket at \u001b[39m\u001b[38;5;132;01m{}\u001b[39;00m\u001b[38;5;124m:\u001b[39m\u001b[38;5;132;01m{}\u001b[39;00m\u001b[38;5;124m\"\u001b[39m\u001b[38;5;241m.\u001b[39mformat(host, port))\n\u001b[0;32m    253\u001b[0m gpsd_socket \u001b[38;5;241m=\u001b[39m socket\u001b[38;5;241m.\u001b[39msocket(socket\u001b[38;5;241m.\u001b[39mAF_INET, socket\u001b[38;5;241m.\u001b[39mSOCK_STREAM)\n\u001b[1;32m--> 254\u001b[0m \u001b[43mgpsd_socket\u001b[49m\u001b[38;5;241;43m.\u001b[39;49m\u001b[43mconnect\u001b[49m\u001b[43m(\u001b[49m\u001b[43m(\u001b[49m\u001b[43mhost\u001b[49m\u001b[43m,\u001b[49m\u001b[43m \u001b[49m\u001b[43mport\u001b[49m\u001b[43m)\u001b[49m\u001b[43m)\u001b[49m\n\u001b[0;32m    255\u001b[0m gpsd_stream \u001b[38;5;241m=\u001b[39m gpsd_socket\u001b[38;5;241m.\u001b[39mmakefile(mode\u001b[38;5;241m=\u001b[39m\u001b[38;5;124m\"\u001b[39m\u001b[38;5;124mrw\u001b[39m\u001b[38;5;124m\"\u001b[39m)\n\u001b[0;32m    256\u001b[0m logger\u001b[38;5;241m.\u001b[39mdebug(\u001b[38;5;124m\"\u001b[39m\u001b[38;5;124mWaiting for welcome message\u001b[39m\u001b[38;5;124m\"\u001b[39m)\n",
      "\u001b[1;31mConnectionRefusedError\u001b[0m: [WinError 10061] No connection could be made because the target machine actively refused it"
     ]
    }
   ],
   "source": [
    "import gpsd\n",
    "\n",
    "# Connect to the local gpsd\n",
    "gpsd.connect()\n",
    "\n",
    "# Connect somewhere else\n",
    "gpsd.connect(host=\"127.0.0.1\", port=123456)\n",
    "\n",
    "# Get gps position\n",
    "packet = gpsd.get_current()\n",
    "\n",
    "# See the inline docs for GpsResponse for the available data\n",
    "print(packet.position())"
   ]
  },
  {
   "cell_type": "code",
   "execution_count": 2,
   "metadata": {},
   "outputs": [
    {
     "ename": "ModuleNotFoundError",
     "evalue": "No module named 'pyembedded'",
     "output_type": "error",
     "traceback": [
      "\u001b[1;31m---------------------------------------------------------------------------\u001b[0m",
      "\u001b[1;31mModuleNotFoundError\u001b[0m                       Traceback (most recent call last)",
      "Cell \u001b[1;32mIn[2], line 1\u001b[0m\n\u001b[1;32m----> 1\u001b[0m \u001b[38;5;28;01mfrom\u001b[39;00m \u001b[38;5;21;01mpyembedded\u001b[39;00m\u001b[38;5;21;01m.\u001b[39;00m\u001b[38;5;21;01mgps_module\u001b[39;00m\u001b[38;5;21;01m.\u001b[39;00m\u001b[38;5;21;01mgps\u001b[39;00m \u001b[38;5;28;01mimport\u001b[39;00m GPS\n",
      "\u001b[1;31mModuleNotFoundError\u001b[0m: No module named 'pyembedded'"
     ]
    }
   ],
   "source": [
    "from pyembedded.gps_module.gps import GPS"
   ]
  },
  {
   "cell_type": "code",
   "execution_count": 1,
   "metadata": {},
   "outputs": [
    {
     "name": "stdout",
     "output_type": "stream",
     "text": [
      "Requirement already satisfied: pyembedded in c:\\phython 3.7\\lib\\site-packages (3.5)Note: you may need to restart the kernel to use updated packages.\n",
      "\n",
      "Requirement already satisfied: pyserial in c:\\phython 3.7\\lib\\site-packages (from pyembedded) (3.5)\n"
     ]
    }
   ],
   "source": [
    "pip install pyembedded"
   ]
  },
  {
   "cell_type": "code",
   "execution_count": null,
   "metadata": {},
   "outputs": [],
   "source": []
  }
 ],
 "metadata": {
  "kernelspec": {
   "display_name": "Python 3",
   "language": "python",
   "name": "python3"
  },
  "language_info": {
   "codemirror_mode": {
    "name": "ipython",
    "version": 3
   },
   "file_extension": ".py",
   "mimetype": "text/x-python",
   "name": "python",
   "nbconvert_exporter": "python",
   "pygments_lexer": "ipython3",
   "version": "3.10.7"
  }
 },
 "nbformat": 4,
 "nbformat_minor": 2
}
